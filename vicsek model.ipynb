{
 "cells": [
  {
   "cell_type": "markdown",
   "metadata": {},
   "source": [
    "### Vicsek Model Simulations\n",
    "\n",
    "**Authors:** Subhanik Purkayastha and Dhananjay Bhaskar\n",
    "\n",
    "**Last Modified:** Feb 16, 2019"
   ]
  },
  {
   "cell_type": "code",
   "execution_count": 1,
   "metadata": {},
   "outputs": [
    {
     "data": {
      "text/html": [
       "<script>requirejs.config({paths: { 'plotly': ['https://cdn.plot.ly/plotly-latest.min']},});if(!window.Plotly) {{require(['plotly'],function(plotly) {window.Plotly=plotly;});}}</script>"
      ],
      "text/vnd.plotly.v1+html": [
       "<script>requirejs.config({paths: { 'plotly': ['https://cdn.plot.ly/plotly-latest.min']},});if(!window.Plotly) {{require(['plotly'],function(plotly) {window.Plotly=plotly;});}}</script>"
      ]
     },
     "metadata": {},
     "output_type": "display_data"
    }
   ],
   "source": [
    "import os\n",
    "import math\n",
    "import pprint\n",
    "import numpy as np\n",
    "import random as nr\n",
    "from IPython.display import HTML\n",
    "from optparse import OptionParser\n",
    "\n",
    "import matplotlib\n",
    "import matplotlib.pyplot as plt\n",
    "from plotly.offline import init_notebook_mode, iplot\n",
    "\n",
    "import multiprocessing\n",
    "from joblib import Parallel, delayed\n",
    "\n",
    "init_notebook_mode(connected=True)\n",
    "\n",
    "matplotlib.rc('xtick', labelsize=6) \n",
    "matplotlib.rc('ytick', labelsize=6) \n",
    "matplotlib.rcParams.update({'font.size':8})\n",
    "\n",
    "%matplotlib inline"
   ]
  },
  {
   "cell_type": "markdown",
   "metadata": {},
   "source": [
    "#### Parameter values"
   ]
  },
  {
   "cell_type": "code",
   "execution_count": 2,
   "metadata": {},
   "outputs": [],
   "source": [
    "# simulation params\n",
    "initN = 20            # must be even number greater than 2 for now\n",
    "timePoints = 100\n",
    "\n",
    "# model params\n",
    "r = 20\n",
    "attraction = 30\n",
    "\n",
    "np.random.seed(1337)\n",
    "periodicBounds = True\n",
    "\n",
    "# cell division params\n",
    "cellDiv = True\n",
    "cellDivRate = 10\n",
    "divisionTimeMu = 30 # 15\n",
    "divisionTimeStd = 3"
   ]
  },
  {
   "cell_type": "markdown",
   "metadata": {},
   "source": [
    "#### Save simulation config"
   ]
  },
  {
   "cell_type": "code",
   "execution_count": 3,
   "metadata": {},
   "outputs": [],
   "source": [
    "def saveConfig(JID, N, timepoints, r, attraction, cellDivRate, periodicBounds, cellDiv):\n",
    "    filename = \"JobID:\" + str(JID) + \".txt\"\n",
    "    f = open(filename, \"w+\")\n",
    "    params = [JID, N, timepoints, r, attraction, cellDivRate, periodicBounds, cellDiv]\n",
    "    name = [\"JobID: \", \"# cells: \", \"# timepoints: \", \"r: \", \"attraction: \", \n",
    "            \"Rate of cell division: \", \"Periodic Boundary Conditions: \", \"Cell Division: \"]\n",
    "    for args in range(len(params)):\n",
    "        f.write(name[args] + str(params[args]) + \"\\n\")\n",
    "\n",
    "def setParams(file):\n",
    "    global N\n",
    "    global timePoints\n",
    "    global r\n",
    "    global attraction\n",
    "    global cellDivRate\n",
    "    global periodicBounds\n",
    "    global cellDiv\n",
    "    with open(file) as currJob:\n",
    "        for line in currJob:\n",
    "            val = line.split(\": \")\n",
    "            if val[0] in (\"# cells\"):\n",
    "                N = int(val[len(val)-1])\n",
    "            elif val[0] in (\"# timepoints\"):\n",
    "                timePoints = int(val[len(val)-1])\n",
    "            elif val[0] in (\"r\"):\n",
    "                r = int(val[len(val)-1])\n",
    "            elif val[0] in (\"attraction\"):\n",
    "                attraction = int(val[len(val)-1])\n",
    "            elif val[0] in (\"Rate of cell division\"):\n",
    "                cellDivRate = int(val[len(val)-1])\n",
    "            elif val[0] in (\"Periodic Boundary Conditions\"):\n",
    "                if val[len(val)-1] == \"True\\n\":\n",
    "                    periodicBounds = True\n",
    "                else:\n",
    "                    periodicBounds = False\n",
    "            else:\n",
    "                if val[len(val)-1] in \"True\\n\":\n",
    "                    cellDiv = True\n",
    "                else:\n",
    "                    cellDiv = False"
   ]
  },
  {
   "cell_type": "markdown",
   "metadata": {},
   "source": [
    "#### Helper functions"
   ]
  },
  {
   "cell_type": "code",
   "execution_count": 4,
   "metadata": {},
   "outputs": [],
   "source": [
    "def findAngle(events, cid):\n",
    "    return pos[events][cid]['a']\n",
    "\n",
    "def getColor(events, cid):\n",
    "    return pos[events][cid]['c']\n",
    "\n",
    "def averageTheta(event, cell):\n",
    "    global N\n",
    "    global pos\n",
    "    theta = pos[event][cell]['a']\n",
    "    count = 1.0\n",
    "    for cid in range(N):\n",
    "        if(pos[event][cell]['x'] + attraction > 1000):\n",
    "            if((pos[event][cid]['x'] < (-1000+(attraction-(1000-pos[event][cell]['x'])))) and \n",
    "               (abs(pos[event][cid]['y'] - pos[event][cell]['y']) <= attraction)):\n",
    "                thetha=theta+pos[event][cid]['a']\n",
    "                count+=count+1.0\n",
    "        if(pos[event][cell]['x'] - attraction < -1000):\n",
    "            if((pos[event][cid]['x'] > (1000-(attraction+(-1000-pos[event][cell]['x'])))) and \n",
    "               (abs(pos[event][cid]['y'] - pos[event][cell]['y']) <= attraction)):\n",
    "                theta=theta+pos[event][cid]['a']\n",
    "                count=count+1.0\n",
    "        if(pos[event][cell]['y'] + attraction > 1000):\n",
    "            if((pos[event][cid]['y'] < (-1000+(attraction-(1000-pos[event][cell]['y'])))) and \n",
    "               (abs(pos[event][cid]['x'] - pos[event][cell]['x']) <= attraction)):\n",
    "                thetha=theta+pos[event][cid]['a']\n",
    "                count=count+1.0\n",
    "        if(pos[event][cell]['y'] - attraction < -1000):\n",
    "            if((pos[event][cid]['y']>(1000-(attraction+(-1000-pos[event][cell]['y'])))) and \n",
    "               (abs(pos[event][cid]['x'] - pos[event][cell]['x']) <= attraction)):\n",
    "                theta=theta+pos[event][cid]['a']\n",
    "                count=count+1.0\n",
    "        if((abs(pos[event][cid]['x'] - pos[event][cell]['x']) <= attraction) and \n",
    "           (abs(pos[event][cid]['y'] - pos[event][cell]['y']) <= attraction)):\n",
    "            theta=theta + pos[event][cid]['a']\n",
    "            count=count+1.0\n",
    "    return (theta/count)\n",
    "            \n",
    "def getXPosition(cid, t):\n",
    "    x_data = list()\n",
    "    if cid in pos[t].keys():\n",
    "        x_data.append(pos[t][cid]['x'])\n",
    "    return x_data\n",
    "\n",
    "def getYPosition(cid, t):\n",
    "    y_data = list()\n",
    "    if cid in pos[t].keys():\n",
    "        y_data.append(pos[t][cid]['y'])\n",
    "    return y_data\n",
    "\n",
    "def getName(num):\n",
    "    numZeros = 5 - len(repr(num))\n",
    "    name = \"\"\n",
    "    for i in range(numZeros):\n",
    "        name += '0'\n",
    "    name += repr(num)\n",
    "    name += \".png\"\n",
    "    return name\n",
    "\n",
    "def areInteracting(cell, event):\n",
    "    global pos\n",
    "    frame_N = np.max(pos[event].keys())\n",
    "    for cid in range(frame_N):\n",
    "        if ((abs(pos[event][cid]['x'] - pos[event][cell]['x']) <= attraction) and \n",
    "            (abs(pos[event][cid]['y'] - pos[event][cell]['y']) <= attraction)):\n",
    "                plt.plot([pos[event][cid]['x'], pos[event][cell]['x']], \n",
    "                         [pos[event][cid]['y'], pos[event][cell]['y']], \n",
    "                         '-', linewidth=0.5, color='darkgray')\n",
    "            \n",
    "def showTrail(cell, event):\n",
    "    if (event <= 10):\n",
    "        for i in range(event):\n",
    "            plt.plot([pos[i][cell]['x'], pos[i+1][cell]['x']], [pos[i][cell]['y'], pos[i+1][cell]['y']], \n",
    "                     'k--', linewidth=0.5)\n",
    "    else:\n",
    "        for i in range(10):\n",
    "            plt.plot([pos[event-i-1][cell]['x'], pos[event-i][cell]['x']], \n",
    "                     [pos[event-i-1][cell]['y'], pos[event-i][cell]['y']], \n",
    "                     'g--', linewidth=0.5)\n",
    "\n",
    "def setInitialCircle():\n",
    "    x = list()\n",
    "    y = list()\n",
    "    for n in range(N):\n",
    "        angle = nr.uniform(0,1)*(math.pi*2)\n",
    "        x.append(800*math.cos(angle));\n",
    "        y.append(800*math.sin(angle));\n",
    "    \n",
    "    for i in range(N):\n",
    "        firstPos[i] = dict()\n",
    "        for j in ['x', 'y', 'a', 'c']:\n",
    "            if (j == 'c'):\n",
    "                firstPos[i][j] = 'b'\n",
    "            if (j == 'x'):\n",
    "                firstPos[i][j] = x[i];\n",
    "            if (j == 'y'):\n",
    "                firstPos[i][j] = y[i];\n",
    "            if (j == 'a'):\n",
    "                if(firstPos[i]['x'] > 0):\n",
    "                    firstPos[i][j] = math.pi+math.atan((firstPos[i]['y'])/(firstPos[i]['x']))\n",
    "                else:\n",
    "                    firstPos[i][j] = math.atan((firstPos[i]['y'])/(firstPos[i]['x']))\n",
    "                        \n",
    "def setOrbitingCircle():\n",
    "    angle = 0\n",
    "    delta_theta = (2*math.pi)/N\n",
    "    pos = list()\n",
    "    for n in range(N):\n",
    "        pos.append([800*math.cos(angle), 800*math.sin(angle)]);\n",
    "        angle = angle+delta_theta\n",
    "    \n",
    "    for i in range(N-1):\n",
    "        firstPos[i] = dict()\n",
    "        for j in ['x', 'y', 'a', 'c']:\n",
    "            if (j == 'c'):\n",
    "                firstPos[i][j] = 'b'\n",
    "            if (j == 'x'):\n",
    "                firstPos[i][j] = pos[i][0];\n",
    "            if (j == 'y'):\n",
    "                firstPos[i][j] = pos[i][1];\n",
    "            if (j == 'a'):\n",
    "                if(firstPos[i]['y'] > 0 and firstPos[i]['x'] > 0):\n",
    "                    firstPos[i][j] = math.atan((pos[i+1][1]-pos[i][1])/(pos[i+1][0]-pos[i][0]))\n",
    "                elif(firstPos[i]['y'] > 0 and firstPos[i]['x'] < 0):\n",
    "                    firstPos[i][j] = (math.pi/2)+math.atan((pos[i+1][0]-pos[i][0])/(pos[i+1][1]-pos[i][1]))\n",
    "                elif(firstPos[i]['y'] < 0 and firstPos[i]['x'] > 0):\n",
    "                    firstPos[i][j] = math.atan((pos[i+1][0]-pos[i][0])/(pos[i+1][1]-pos[i][1]))-(math.pi)\n",
    "                else:\n",
    "                    firstPos[i][j] = math.pi+math.atan((pos[i+1][0]-pos[i][0])/(pos[i+1][1]-pos[i][1]))\n",
    "\n",
    "def setDiagonal():\n",
    "    x = np.linspace(-800, 800)\n",
    "    y = np.linspace(-800, 800)\n",
    "    for i in range(N):\n",
    "        firstPos[i] = dict()\n",
    "        for j in ['x', 'y', 'a', 'c']:\n",
    "            if (j == 'c'):\n",
    "                firstPos[i][j] = 'b'\n",
    "            if (j == 'x'):\n",
    "                firstPos[i][j] = x[i];\n",
    "            if (j == 'y'):\n",
    "                firstPos[i][j] = y[i];\n",
    "            if (j == 'a'):\n",
    "                if(firstPos[i]['x'] > 0):\n",
    "                    firstPos[i][j] = math.pi+math.atan((firstPos[i]['y'])/(firstPos[i]['x']))\n",
    "                else:\n",
    "                    firstPos[i][j] = math.atan((firstPos[i]['y'])/(firstPos[i]['x']))\n",
    "\n",
    "def setGrid():\n",
    "    halfN = N/2\n",
    "    x = np.linspace(-800, 800, num=halfN)\n",
    "    y = np.linspace(-800, 800, num=halfN)\n",
    "    c = 0\n",
    "    for row in range(y.size):\n",
    "        for col in range(x.size):\n",
    "            firstPos[c] = dict()\n",
    "            firstPos[c]['x'] = x[col];\n",
    "            firstPos[c]['y'] = y[row];\n",
    "            if(firstPos[c]['x'] >= 0):\n",
    "                firstPos[c]['a'] = math.pi+math.atan((firstPos[c]['y'])/(firstPos[c]['x']))\n",
    "            else:\n",
    "                firstPos[c]['a'] = math.atan((firstPos[c]['y'])/(firstPos[c]['x']))\n",
    "            firstPos[c]['t'] = np.floor(np.random.normal(divisionTimeMu, divisionTimeStd))\n",
    "            c = c + 1\n",
    "            \n",
    "def cellDivide(event, cell):\n",
    "    global nextPos\n",
    "    global pos\n",
    "    global N\n",
    "    \n",
    "    if cellDiv is True:\n",
    "        if event == 0:\n",
    "            return((False, pos[event][cell]['t']-1))\n",
    "        elif pos[event][cell]['t'] < 0:\n",
    "            # return updated timer for parent cell\n",
    "            new_timer_val = np.floor(np.random.normal(divisionTimeMu, divisionTimeStd))\n",
    "            return((True, new_timer_val))\n",
    "        elif event > 0:\n",
    "            return((False, pos[event][cell]['t']-1))\n",
    "    else:\n",
    "        return 0"
   ]
  },
  {
   "cell_type": "markdown",
   "metadata": {},
   "source": [
    "#### Run simulation"
   ]
  },
  {
   "cell_type": "code",
   "execution_count": 5,
   "metadata": {
    "scrolled": false
   },
   "outputs": [],
   "source": [
    "pp = pprint.PrettyPrinter(indent=4)\n",
    "N = initN\n",
    "\n",
    "pos = list()\n",
    "numCells = list()\n",
    "\n",
    "firstPos = dict()\n",
    "pos.append(firstPos)\n",
    "\n",
    "#setParams(\"JobID_1.txt\")\n",
    "#print(repr(N) + \", \" + repr(timePoints) + \", \" + repr(attraction)+ \", \" + repr(r) + \", \" + repr(cellDivRate))\n",
    "#print(cellDiv)\n",
    "#print(periodicBounds)\n",
    "\n",
    "setGrid();\n",
    "#setInitialCircle();\n",
    "#setDiagonal();\n",
    "#setOrbitingCircle();\n",
    "\n",
    "#print(\"\\nSTATE (ITR = INITIAL) :\")\n",
    "#pp.pprint(pos)\n",
    "\n",
    "for events in range(timePoints):\n",
    "    \n",
    "    nextPos = dict()\n",
    "    divided_cells = list()\n",
    "    \n",
    "    for i in range(N):\n",
    "        nextPos[i] = dict()\n",
    "        for j in ['c', 'x', 'y', 'a', 't']:\n",
    "            if(j=='x'):\n",
    "                if(pos[events][i][j] > 1000):\n",
    "                    pos[events][i][j] = -1000\n",
    "                elif(pos[events][i][j] < -1000):\n",
    "                    pos[events][i][j] = 1000\n",
    "                nextPos[i][j] = pos[events][i][j]+(math.cos(pos[events][i]['a'])*r) \n",
    "            elif(j=='y'):\n",
    "                if(pos[events][i][j] > 1000):\n",
    "                    pos[events][i][j] = -1000\n",
    "                elif(pos[events][i][j] < -1000):\n",
    "                    pos[events][i][j] = 1000\n",
    "                nextPos[i][j] = pos[events][i][j]+(math.sin(pos[events][i]['a'])*r)\n",
    "            elif (j=='c'):\n",
    "                nextPos[i][j] = 'b'\n",
    "            elif (j=='a'):\n",
    "                nextPos[i][j] = averageTheta(events, i)\n",
    "            else:\n",
    "                (did_divide, nextPos[i][j]) = cellDivide(events, i)\n",
    "                if did_divide == True:\n",
    "                    divided_cells.append(i)\n",
    "    \n",
    "    # cell division\n",
    "    if len(divided_cells) > 0:\n",
    "        for cid in divided_cells:\n",
    "            nextPos[N] = dict({'c': pos[events][cid]['c'], \n",
    "                                'x' : pos[events][cid]['x'] + np.random.normal(2,1), \n",
    "                                'y' : pos[events][cid]['y'] + np.random.normal(2,1), \n",
    "                                'a' : pos[events][cid]['a'] + math.pi, \n",
    "                                't' : np.floor(np.random.normal(divisionTimeMu, divisionTimeStd))})\n",
    "            N = N + 1\n",
    "    \n",
    "    numCells.append(N)\n",
    "    pos.append(nextPos)\n",
    "    \n",
    "#print(\"\\nSTATE (ITR = \" + repr(events) + \") :\")\n",
    "#pp.pprint(pos)"
   ]
  },
  {
   "cell_type": "markdown",
   "metadata": {},
   "source": [
    "#### Analysis of results"
   ]
  },
  {
   "cell_type": "code",
   "execution_count": 6,
   "metadata": {},
   "outputs": [
    {
     "data": {
      "text/plain": [
       "Text(0,0.5,u'Number of Cells')"
      ]
     },
     "execution_count": 6,
     "metadata": {},
     "output_type": "execute_result"
    },
    {
     "data": {
      "image/png": "[encoded data removed]",
      "text/plain": [
       "<matplotlib.figure.Figure at 0x7f8533fc6a90>"
      ]
     },
     "metadata": {},
     "output_type": "display_data"
    }
   ],
   "source": [
    "plt.figure(figsize=(3,2), dpi=200)\n",
    "plt.plot(range(timePoints), numCells)\n",
    "plt.xlabel(\"Time\", size=7)\n",
    "plt.ylabel(\"Number of Cells\", size=7)"
   ]
  },
  {
   "cell_type": "code",
   "execution_count": 7,
   "metadata": {},
   "outputs": [
    {
     "name": "stdout",
     "output_type": "stream",
     "text": [
      "Number of cores: 4\n",
      "Number of cells: 148\n"
     ]
    }
   ],
   "source": [
    "num_cores = multiprocessing.cpu_count()\n",
    "print \"Number of cores: \" + repr(num_cores)\n",
    "print \"Number of cells: \" + repr(N)"
   ]
  },
  {
   "cell_type": "markdown",
   "metadata": {},
   "source": [
    "#### Plot frame\n",
    "- **TODO**: Fix `showTrail` function to deal with cell division and periodic boundary conditions"
   ]
  },
  {
   "cell_type": "code",
   "execution_count": 8,
   "metadata": {},
   "outputs": [],
   "source": [
    "tpoints = range(timePoints) \n",
    "\n",
    "def createPlot(frame):\n",
    "    \n",
    "    matplotlib.rc('xtick', labelsize=4) \n",
    "    matplotlib.rc('ytick', labelsize=4) \n",
    "    matplotlib.rcParams.update({'font.size':6})\n",
    "    \n",
    "    plt.figure(figsize=(4,3), dpi=400)\n",
    "    plt.xlim([-1000,1000])\n",
    "    plt.ylim([-1000,1000])\n",
    "    \n",
    "    numcellsinframe = np.max(pos[frame].keys()) + 1\n",
    "    \n",
    "    for cid in range(numcellsinframe):\n",
    "        xloc = getXPosition(cid, frame)[0]\n",
    "        yloc = getYPosition(cid, frame)[0]\n",
    "        theta_val = findAngle(frame, cid)\n",
    "        plt.plot(xloc, yloc, marker='o', color='#2222ee', alpha=0.7, linestyle='None', markersize=4)\n",
    "        areInteracting(cid, frame)\n",
    "        #showTrail(cid, frame)\n",
    "        #plt.quiver(xloc, yloc, 0.5*math.cos(theta_val), 0.5*math.sin(theta_val), angles='xy', \n",
    "        #           width=0.003, color='black')\n",
    "        plt.plot([xloc, xloc+50*math.cos(theta_val)], [yloc, yloc+50*math.sin(theta_val)], 'k-', linewidth=0.5)\n",
    "        \n",
    "    plt.tight_layout()\n",
    "    plt.savefig(getName(frame))\n",
    "    plt.close()\n",
    "    \n",
    "    return(getName(frame))"
   ]
  },
  {
   "cell_type": "markdown",
   "metadata": {},
   "source": [
    "#### Generate frames for movie"
   ]
  },
  {
   "cell_type": "code",
   "execution_count": 9,
   "metadata": {},
   "outputs": [
    {
     "data": {
      "text/plain": [
       "'00100.png'"
      ]
     },
     "execution_count": 9,
     "metadata": {},
     "output_type": "execute_result"
    }
   ],
   "source": [
    "createPlot(100)"
   ]
  },
  {
   "cell_type": "code",
   "execution_count": 10,
   "metadata": {
    "scrolled": false
   },
   "outputs": [],
   "source": [
    "results = Parallel(n_jobs=num_cores)(delayed(createPlot)(frame) for frame in tpoints)"
   ]
  },
  {
   "cell_type": "markdown",
   "metadata": {},
   "source": [
    "**Encode movie**"
   ]
  },
  {
   "cell_type": "code",
   "execution_count": 11,
   "metadata": {
    "scrolled": false
   },
   "outputs": [
    {
     "name": "stdout",
     "output_type": "stream",
     "text": [
      "Creating Movie - Frames: 101 Estimated Length: 10 seconds\n",
      "ffmpeg version 2.8.15-0ubuntu0.16.04.1 Copyright (c) 2000-2018 the FFmpeg developers\n",
      "  built with gcc 5.4.0 (Ubuntu 5.4.0-6ubuntu1~16.04.10) 20160609\n",
      "  configuration: --prefix=/usr --extra-version=0ubuntu0.16.04.1 --build-suffix=-ffmpeg --toolchain=hardened --libdir=/usr/lib/x86_64-linux-gnu --incdir=/usr/include/x86_64-linux-gnu --cc=cc --cxx=g++ --enable-gpl --enable-shared --disable-stripping --disable-decoder=libopenjpeg --disable-decoder=libschroedinger --enable-avresample --enable-avisynth --enable-gnutls --enable-ladspa --enable-libass --enable-libbluray --enable-libbs2b --enable-libcaca --enable-libcdio --enable-libflite --enable-libfontconfig --enable-libfreetype --enable-libfribidi --enable-libgme --enable-libgsm --enable-libmodplug --enable-libmp3lame --enable-libopenjpeg --enable-libopus --enable-libpulse --enable-librtmp --enable-libschroedinger --enable-libshine --enable-libsnappy --enable-libsoxr --enable-libspeex --enable-libssh --enable-libtheora --enable-libtwolame --enable-libvorbis --enable-libvpx --enable-libwavpack --enable-libwebp --enable-libx265 --enable-libxvid --enable-libzvbi --enable-openal --enable-opengl --enable-x11grab --enable-libdc1394 --enable-libiec61883 --enable-libzmq --enable-frei0r --enable-libx264 --enable-libopencv\n",
      "  libavutil      54. 31.100 / 54. 31.100\n",
      "  libavcodec     56. 60.100 / 56. 60.100\n",
      "  libavformat    56. 40.101 / 56. 40.101\n",
      "  libavdevice    56.  4.100 / 56.  4.100\n",
      "  libavfilter     5. 40.101 /  5. 40.101\n",
      "  libavresample   2.  1.  0 /  2.  1.  0\n",
      "  libswscale      3.  1.101 /  3.  1.101\n",
      "  libswresample   1.  2.101 /  1.  2.101\n",
      "  libpostproc    53.  3.100 / 53.  3.100\n",
      "Input #0, image2, from 'my_movie_%03d.png':\n",
      "  Duration: 00:00:10.10, start: 0.000000, bitrate: N/A\n",
      "    Stream #0:0: Video: png, rgba(pc), 1600x1200 [SAR 15748:15748 DAR 4:3], 10 fps, 10 tbr, 10 tbn, 10 tbc\n",
      "File 'my_movie.mp4' already exists. Overwrite ? [y/N] ^C\n"
     ]
    }
   ],
   "source": [
    "! chmod +x make_png_movie.sh\n",
    "! ./make_png_movie.sh"
   ]
  },
  {
   "cell_type": "markdown",
   "metadata": {},
   "source": [
    "#### Rename movie file"
   ]
  },
  {
   "cell_type": "code",
   "execution_count": 13,
   "metadata": {},
   "outputs": [
    {
     "name": "stdout",
     "output_type": "stream",
     "text": [
      "mv: cannot move 'my_movie.mp4' to 'SimulationResults/cell_division_grid.mp4': No such file or directory\r\n"
     ]
    }
   ],
   "source": [
    "! mv my_movie.mp4 SimulationResults/staggered_growth.mp4"
   ]
  },
  {
   "cell_type": "markdown",
   "metadata": {},
   "source": [
    "#### Delete images and embed video"
   ]
  },
  {
   "cell_type": "code",
   "execution_count": 14,
   "metadata": {},
   "outputs": [],
   "source": [
    "! rm -rf *.png"
   ]
  },
  {
   "cell_type": "code",
   "execution_count": 15,
   "metadata": {},
   "outputs": [
    {
     "data": {
      "text/html": [
       "\n",
       "<video width=\"640\" height=\"640\" controls>\n",
       "  <source src=\"SimulationResults/cell_division_grid.mp4\" type=\"video/mp4\">\n",
       "</video>\n"
      ],
      "text/plain": [
       "<IPython.core.display.HTML object>"
      ]
     },
     "execution_count": 15,
     "metadata": {},
     "output_type": "execute_result"
    }
   ],
   "source": [
    "HTML(\"\"\"\n",
    "<video width=\"640\" height=\"640\" controls>\n",
    "  <source src=\"SimulationResults/staggered_growth.mp4\" type=\"video/mp4\">\n",
    "</video>\n",
    "\"\"\")"
   ]
  },
  {
   "cell_type": "code",
   "execution_count": null,
   "metadata": {},
   "outputs": [],
   "source": []
  },
  {
   "cell_type": "code",
   "execution_count": null,
   "metadata": {},
   "outputs": [],
   "source": []
  }
 ],
 "metadata": {
  "@webio": {
   "lastCommId": "801f183c4a3948bd9af2bc05d0278c50",
   "lastKernelId": "0867eb58-145c-4237-9c8b-5deda08c4498"
  },
  "kernelspec": {
   "display_name": "Python 2",
   "language": "python",
   "name": "python2"
  },
  "language_info": {
   "codemirror_mode": {
    "name": "ipython",
    "version": 2
   },
   "file_extension": ".py",
   "mimetype": "text/x-python",
   "name": "python",
   "nbconvert_exporter": "python",
   "pygments_lexer": "ipython2",
   "version": "2.7.15"
  }
 },
 "nbformat": 4,
 "nbformat_minor": 2
}
