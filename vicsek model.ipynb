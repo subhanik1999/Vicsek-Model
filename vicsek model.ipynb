{
 "cells": [
  {
   "cell_type": "markdown",
   "metadata": {},
   "source": [
    "#### Vicsek Model Simulations\n",
    "\n",
    "**Authors:** Subhanik Purkayastha and Dhananjay Bhaskar\n",
    "\n",
    "**Last Modified:** Dec 08, 2018"
   ]
  },
  {
   "cell_type": "code",
   "execution_count": 28,
   "metadata": {},
   "outputs": [
    {
     "data": {
      "text/html": [
       "<script>requirejs.config({paths: { 'plotly': ['https://cdn.plot.ly/plotly-latest.min']},});if(!window.Plotly) {{require(['plotly'],function(plotly) {window.Plotly=plotly;});}}</script>"
      ],
      "text/vnd.plotly.v1+html": [
       "<script>requirejs.config({paths: { 'plotly': ['https://cdn.plot.ly/plotly-latest.min']},});if(!window.Plotly) {{require(['plotly'],function(plotly) {window.Plotly=plotly;});}}</script>"
      ]
     },
     "metadata": {},
     "output_type": "display_data"
    }
   ],
   "source": [
    "import os\n",
    "import math\n",
    "import numpy as np\n",
    "import random as nr\n",
    "from IPython.display import HTML\n",
    "import matplotlib.pyplot as plt\n",
    "from plotly.offline import init_notebook_mode, iplot\n",
    "\n",
    "from joblib import Parallel, delayed\n",
    "import multiprocessing\n",
    "\n",
    "init_notebook_mode(connected=True)\n",
    "\n",
    "%matplotlib inline"
   ]
  },
  {
   "cell_type": "code",
   "execution_count": 33,
   "metadata": {},
   "outputs": [],
   "source": [
    "def findAngle(events, cid):\n",
    "    return pos[events][cid]['a']\n",
    "\n",
    "def getColor(events, cid):\n",
    "    return pos[events][cid]['c']\n",
    "\n",
    "def averageTheta(event, cell):\n",
    "    theta = pos[event][cell]['a']\n",
    "    count = 1.0\n",
    "    for cid in range(N):\n",
    "        if(pos[event][cell]['x'] + attraction > 1000):\n",
    "            if((pos[event][cid]['x'] < (-1000+(attraction-(1000-pos[event][cell]['x'])))) and (abs(pos[event][cid]['y'] - pos[event][cell]['y']) <= attraction)):\n",
    "                thetha=theta+pos[event][cid]['a']\n",
    "                count+=count+1.0\n",
    "        if(pos[event][cell]['x'] - attraction < -1000):\n",
    "            if((pos[event][cid]['x'] > (1000-(attraction+(-1000-pos[event][cell]['x'])))) and (abs(pos[event][cid]['y'] - pos[event][cell]['y']) <= attraction)):\n",
    "                theta=theta+pos[event][cid]['a']\n",
    "                count=count+1.0\n",
    "        if(pos[event][cell]['y'] + attraction > 1000):\n",
    "            if((pos[event][cid]['y'] < (-1000+(attraction-(1000-pos[event][cell]['y'])))) and (abs(pos[event][cid]['x'] - pos[event][cell]['x']) <= attraction)):\n",
    "                thetha=theta+pos[event][cid]['a']\n",
    "                count=count+1.0\n",
    "        if(pos[event][cell]['y'] - attraction < -1000):\n",
    "            if((pos[event][cid]['y']>(1000-(attraction+(-1000-pos[event][cell]['y'])))) and (abs(pos[event][cid]['x'] - pos[event][cell]['x']) <= attraction)):\n",
    "                theta=theta+pos[event][cid]['a']\n",
    "                count=count+1.0\n",
    "        if((abs(pos[event][cid]['x'] - pos[event][cell]['x']) <= attraction) and (abs(pos[event][cid]['y'] - pos[event][cell]['y']) <= attraction)):\n",
    "            theta=theta + pos[event][cid]['a']\n",
    "            count=count+1.0\n",
    "    return (theta/count)\n",
    "            \n",
    "def getXPosition(cid, t):\n",
    "    x_data = list()\n",
    "    if cid in pos[t].keys():\n",
    "        x_data.append(pos[t][cid]['x'])\n",
    "    return x_data\n",
    "\n",
    "def getYPosition(cid, t):\n",
    "    y_data = list()\n",
    "    if cid in pos[t].keys():\n",
    "        y_data.append(pos[t][cid]['y'])\n",
    "    return y_data\n",
    "\n",
    "def getName(num):\n",
    "    numZeros = 5 - len(repr(num))\n",
    "    name = \"\"\n",
    "    for i in range(numZeros):\n",
    "        name += '0'\n",
    "    name += repr(num)\n",
    "    name += \".png\"\n",
    "    return name\n",
    "\n",
    "def areInteracting(cell, event):\n",
    "    for cid in range(N):\n",
    "        if ((abs(pos[event][cid]['x'] - pos[event][cell]['x']) <= attraction) and (abs(pos[event][cid]['y'] - pos[event][cell]['y']) <= attraction)):\n",
    "            plt.plot([pos[event][cid]['x'], pos[event][cell]['x']], [pos[event][cid]['y'], pos[event][cell]['y']], 'k-')\n",
    "            \n",
    "def showTrail(cell, event):\n",
    "    if (event <= 10):\n",
    "        for i in range(event):\n",
    "            plt.plot([pos[i][cell]['x'], pos[i+1][cell]['x']], [pos[i][cell]['y'], pos[i+1][cell]['y']], 'k--')\n",
    "    else:\n",
    "        for i in range(10):\n",
    "            plt.plot([pos[event-i-1][cell]['x'], pos[event-i][cell]['x']], [pos[event-i-1][cell]['y'], pos[event-i][cell]['y']], 'g--')\n",
    "\n",
    "def setInitialCircle():\n",
    "    x = list()\n",
    "    y = list()\n",
    "    for n in range(N):\n",
    "        angle = nr.uniform(0,1)*(math.pi*2)\n",
    "        x.append(800*math.cos(angle));\n",
    "        y.append(800*math.sin(angle));\n",
    "    \n",
    "    for i in range(N):\n",
    "        firstPos[i] = dict()\n",
    "        for j in ['x', 'y', 'a', 'c']:\n",
    "            if (j == 'c'):\n",
    "                firstPos[i][j] = 'b'\n",
    "            if (j == 'x'):\n",
    "                firstPos[i][j] = x[i];\n",
    "            if (j == 'y'):\n",
    "                firstPos[i][j] = y[i];\n",
    "            if (j == 'a'):\n",
    "                if(firstPos[i]['x'] > 0):\n",
    "                    firstPos[i][j] = math.pi+math.atan((firstPos[i]['y'])/(firstPos[i]['x']))\n",
    "                else:\n",
    "                    firstPos[i][j] = math.atan((firstPos[i]['y'])/(firstPos[i]['x']))\n",
    "                        \n",
    "def setOrbitingCircle():\n",
    "    angle = 0\n",
    "    delta_theta = (2*math.pi)/N\n",
    "    pos = list()\n",
    "    for n in range(N):\n",
    "        pos.append([800*math.cos(angle), 800*math.sin(angle)]);\n",
    "        angle = angle+delta_theta\n",
    "    \n",
    "    for i in range(N-1):\n",
    "        firstPos[i] = dict()\n",
    "        for j in ['x', 'y', 'a', 'c']:\n",
    "            if (j == 'c'):\n",
    "                firstPos[i][j] = 'b'\n",
    "            if (j == 'x'):\n",
    "                firstPos[i][j] = pos[i][0];\n",
    "            if (j == 'y'):\n",
    "                firstPos[i][j] = pos[i][1];\n",
    "            if (j == 'a'):\n",
    "                if(firstPos[i]['y'] > 0 and firstPos[i]['x'] > 0):\n",
    "                    firstPos[i][j] = math.atan((pos[i+1][1]-pos[i][1])/(pos[i+1][0]-pos[i][0]))\n",
    "                elif(firstPos[i]['y'] > 0 and firstPos[i]['x'] < 0):\n",
    "                    firstPos[i][j] = (math.pi/2)+math.atan((pos[i+1][0]-pos[i][0])/(pos[i+1][1]-pos[i][1]))\n",
    "                elif(firstPos[i]['y'] < 0 and firstPos[i]['x'] > 0):\n",
    "                    firstPos[i][j] = math.atan((pos[i+1][0]-pos[i][0])/(pos[i+1][1]-pos[i][1]))-(math.pi)\n",
    "                else:\n",
    "                    firstPos[i][j] = math.pi+math.atan((pos[i+1][0]-pos[i][0])/(pos[i+1][1]-pos[i][1]))\n",
    "\n",
    "def setDiagonal():\n",
    "    x = np.linspace(-800, 800)\n",
    "    y = np.linspace(-800, 800)\n",
    "    for i in range(N):\n",
    "        firstPos[i] = dict()\n",
    "        for j in ['x', 'y', 'a', 'c']:\n",
    "            if (j == 'c'):\n",
    "                firstPos[i][j] = 'b'\n",
    "            if (j == 'x'):\n",
    "                firstPos[i][j] = x[i];\n",
    "            if (j == 'y'):\n",
    "                firstPos[i][j] = y[i];\n",
    "            if (j == 'a'):\n",
    "                if(firstPos[i]['x'] > 0):\n",
    "                    firstPos[i][j] = math.pi+math.atan((firstPos[i]['y'])/(firstPos[i]['x']))\n",
    "                else:\n",
    "                    firstPos[i][j] = math.atan((firstPos[i]['y'])/(firstPos[i]['x']))\n",
    "\n",
    "def setGrid():\n",
    "    x = np.linspace(-800, 800, num=5)\n",
    "    y = np.linspace(-800, 800, num=15)\n",
    "    c = 0\n",
    "    for row in range(y.size):\n",
    "        for col in range(x.size):\n",
    "            firstPos[c] = dict()\n",
    "            firstPos[c]['x'] = x[col];\n",
    "            firstPos[c]['y'] = y[row];\n",
    "            if(firstPos[c]['x'] >= 0):\n",
    "                firstPos[c]['a'] = math.pi+math.atan((firstPos[c]['y'])/(firstPos[c]['x']))\n",
    "            else:\n",
    "                firstPos[c]['a'] = math.atan((firstPos[c]['y'])/(firstPos[c]['x']))\n",
    "            firstPos[c]['t'] = np.random.normal(100,2)\n",
    "            c=c+1\n",
    "\n",
    "def cellDivide(event, cell):\n",
    "    if(pos[event][cell]['t'] <= 0):\n",
    "        pos[event][N+1]['c'] = pos[event][cell]['c']\n",
    "        pos[event][N+1]['x'] = pos[event][cell]['x']\n",
    "        pos[event][N+1]['y'] = pos[event][cell]['y']\n",
    "        pos[event][N+1]['a'] = pos[event][cell]['a']+math.pi\n",
    "        pos[event][N+1]['t'] =  np.random.normal(100,2)\n",
    "        pos[event][cell]['t'] = np.random.normal(100,2)\n",
    "        N=N+1\n",
    "    pos[event][cell]['t'] = pos[event][cell]['t']-10"
   ]
  },
  {
   "cell_type": "code",
   "execution_count": 34,
   "metadata": {
    "scrolled": true
   },
   "outputs": [
    {
     "name": "stderr",
     "output_type": "stream",
     "text": [
      "/home/labmember/anaconda2/lib/python2.7/site-packages/ipykernel_launcher.py:144: RuntimeWarning:\n",
      "\n",
      "divide by zero encountered in double_scalars\n",
      "\n",
      "/home/labmember/anaconda2/lib/python2.7/site-packages/ipykernel_launcher.py:144: RuntimeWarning:\n",
      "\n",
      "invalid value encountered in double_scalars\n",
      "\n"
     ]
    },
    {
     "ename": "UnboundLocalError",
     "evalue": "local variable 'N' referenced before assignment",
     "output_type": "error",
     "traceback": [
      "\u001b[0;31m---------------------------------------------------------------------------\u001b[0m",
      "\u001b[0;31mUnboundLocalError\u001b[0m                         Traceback (most recent call last)",
      "\u001b[0;32m<ipython-input-34-5b5e7d677af3>\u001b[0m in \u001b[0;36m<module>\u001b[0;34m()\u001b[0m\n\u001b[1;32m     38\u001b[0m                 \u001b[0mnextPos\u001b[0m\u001b[0;34m[\u001b[0m\u001b[0mi\u001b[0m\u001b[0;34m]\u001b[0m\u001b[0;34m[\u001b[0m\u001b[0mj\u001b[0m\u001b[0;34m]\u001b[0m \u001b[0;34m=\u001b[0m \u001b[0maverageTheta\u001b[0m\u001b[0;34m(\u001b[0m\u001b[0mevents\u001b[0m\u001b[0;34m,\u001b[0m \u001b[0mi\u001b[0m\u001b[0;34m)\u001b[0m\u001b[0;34m\u001b[0m\u001b[0m\n\u001b[1;32m     39\u001b[0m             \u001b[0;32melse\u001b[0m\u001b[0;34m:\u001b[0m\u001b[0;34m\u001b[0m\u001b[0m\n\u001b[0;32m---> 40\u001b[0;31m                 \u001b[0mnextPos\u001b[0m\u001b[0;34m[\u001b[0m\u001b[0mi\u001b[0m\u001b[0;34m]\u001b[0m\u001b[0;34m[\u001b[0m\u001b[0mj\u001b[0m\u001b[0;34m]\u001b[0m \u001b[0;34m=\u001b[0m \u001b[0mcellDivide\u001b[0m\u001b[0;34m(\u001b[0m\u001b[0mevents\u001b[0m\u001b[0;34m,\u001b[0m \u001b[0mi\u001b[0m\u001b[0;34m)\u001b[0m\u001b[0;34m\u001b[0m\u001b[0m\n\u001b[0m",
      "\u001b[0;32m<ipython-input-33-b5420b4b8426>\u001b[0m in \u001b[0;36mcellDivide\u001b[0;34m(event, cell)\u001b[0m\n\u001b[1;32m    150\u001b[0m \u001b[0;32mdef\u001b[0m \u001b[0mcellDivide\u001b[0m\u001b[0;34m(\u001b[0m\u001b[0mevent\u001b[0m\u001b[0;34m,\u001b[0m \u001b[0mcell\u001b[0m\u001b[0;34m)\u001b[0m\u001b[0;34m:\u001b[0m\u001b[0;34m\u001b[0m\u001b[0m\n\u001b[1;32m    151\u001b[0m     \u001b[0;32mif\u001b[0m\u001b[0;34m(\u001b[0m\u001b[0mpos\u001b[0m\u001b[0;34m[\u001b[0m\u001b[0mevent\u001b[0m\u001b[0;34m]\u001b[0m\u001b[0;34m[\u001b[0m\u001b[0mcell\u001b[0m\u001b[0;34m]\u001b[0m\u001b[0;34m[\u001b[0m\u001b[0;34m't'\u001b[0m\u001b[0;34m]\u001b[0m \u001b[0;34m<=\u001b[0m \u001b[0;36m0\u001b[0m\u001b[0;34m)\u001b[0m\u001b[0;34m:\u001b[0m\u001b[0;34m\u001b[0m\u001b[0m\n\u001b[0;32m--> 152\u001b[0;31m         \u001b[0mpos\u001b[0m\u001b[0;34m[\u001b[0m\u001b[0mevent\u001b[0m\u001b[0;34m]\u001b[0m\u001b[0;34m[\u001b[0m\u001b[0mN\u001b[0m\u001b[0;34m+\u001b[0m\u001b[0;36m1\u001b[0m\u001b[0;34m]\u001b[0m\u001b[0;34m[\u001b[0m\u001b[0;34m'c'\u001b[0m\u001b[0;34m]\u001b[0m \u001b[0;34m=\u001b[0m \u001b[0mpos\u001b[0m\u001b[0;34m[\u001b[0m\u001b[0mevent\u001b[0m\u001b[0;34m]\u001b[0m\u001b[0;34m[\u001b[0m\u001b[0mcell\u001b[0m\u001b[0;34m]\u001b[0m\u001b[0;34m[\u001b[0m\u001b[0;34m'c'\u001b[0m\u001b[0;34m]\u001b[0m\u001b[0;34m\u001b[0m\u001b[0m\n\u001b[0m\u001b[1;32m    153\u001b[0m         \u001b[0mpos\u001b[0m\u001b[0;34m[\u001b[0m\u001b[0mevent\u001b[0m\u001b[0;34m]\u001b[0m\u001b[0;34m[\u001b[0m\u001b[0mN\u001b[0m\u001b[0;34m+\u001b[0m\u001b[0;36m1\u001b[0m\u001b[0;34m]\u001b[0m\u001b[0;34m[\u001b[0m\u001b[0;34m'x'\u001b[0m\u001b[0;34m]\u001b[0m \u001b[0;34m=\u001b[0m \u001b[0mpos\u001b[0m\u001b[0;34m[\u001b[0m\u001b[0mevent\u001b[0m\u001b[0;34m]\u001b[0m\u001b[0;34m[\u001b[0m\u001b[0mcell\u001b[0m\u001b[0;34m]\u001b[0m\u001b[0;34m[\u001b[0m\u001b[0;34m'x'\u001b[0m\u001b[0;34m]\u001b[0m\u001b[0;34m\u001b[0m\u001b[0m\n\u001b[1;32m    154\u001b[0m         \u001b[0mpos\u001b[0m\u001b[0;34m[\u001b[0m\u001b[0mevent\u001b[0m\u001b[0;34m]\u001b[0m\u001b[0;34m[\u001b[0m\u001b[0mN\u001b[0m\u001b[0;34m+\u001b[0m\u001b[0;36m1\u001b[0m\u001b[0;34m]\u001b[0m\u001b[0;34m[\u001b[0m\u001b[0;34m'y'\u001b[0m\u001b[0;34m]\u001b[0m \u001b[0;34m=\u001b[0m \u001b[0mpos\u001b[0m\u001b[0;34m[\u001b[0m\u001b[0mevent\u001b[0m\u001b[0;34m]\u001b[0m\u001b[0;34m[\u001b[0m\u001b[0mcell\u001b[0m\u001b[0;34m]\u001b[0m\u001b[0;34m[\u001b[0m\u001b[0;34m'y'\u001b[0m\u001b[0;34m]\u001b[0m\u001b[0;34m\u001b[0m\u001b[0m\n",
      "\u001b[0;31mUnboundLocalError\u001b[0m: local variable 'N' referenced before assignment"
     ]
    }
   ],
   "source": [
    "N = 75\n",
    "timePoints = 250\n",
    "r = 20\n",
    "attraction = 30\n",
    "\n",
    "pos = list()\n",
    "\n",
    "firstPos = dict()\n",
    "pos.append(firstPos)\n",
    "\n",
    "#setInitialCircle();\n",
    "#setDiagonal();\n",
    "setGrid();\n",
    "#setOrbitingCircle();\n",
    "\n",
    "for events in range(timePoints-1):\n",
    "    nextPos = dict()\n",
    "    pos.append(nextPos);\n",
    "    for i in range(N):\n",
    "        nextPos[i] = dict()\n",
    "        for j in ['c', 'x', 'y', 'a', 't']:\n",
    "            if(j=='x'):\n",
    "                if(pos[events][i][j]>1000):\n",
    "                    pos[events][i][j] = -1000\n",
    "                    \n",
    "                elif(pos[events][i][j]<-1000):\n",
    "                    pos[events][i][j] = 1000\n",
    "                nextPos[i][j] = pos[events][i][j]+(math.cos(pos[events][i]['a'])*r) \n",
    "            elif(j=='y'):\n",
    "                if(pos[events][i][j]>1000):\n",
    "                    pos[events][i][j] = -1000\n",
    "                elif(pos[events][i][j]<-1000):\n",
    "                    pos[events][i][j] = 1000\n",
    "                nextPos[i][j] = pos[events][i][j]+(math.sin(pos[events][i]['a'])*r)\n",
    "            elif (j=='c'):\n",
    "                nextPos[i][j] = 'b'\n",
    "            elif (j=='a'):\n",
    "                nextPos[i][j] = averageTheta(events, i)\n",
    "            else:\n",
    "                nextPos[i][j] = cellDivide(events, i)"
   ]
  },
  {
   "cell_type": "code",
   "execution_count": 18,
   "metadata": {},
   "outputs": [
    {
     "name": "stdout",
     "output_type": "stream",
     "text": [
      "4\n"
     ]
    }
   ],
   "source": [
    "num_cores = multiprocessing.cpu_count()\n",
    "print num_cores"
   ]
  },
  {
   "cell_type": "code",
   "execution_count": 19,
   "metadata": {},
   "outputs": [],
   "source": [
    "tpoints = range(timePoints) \n",
    "\n",
    "def createPlot(frame):\n",
    "    plt.figure(figsize = (4, 3), dpi = 300)\n",
    "    plt.xlim([-1000,1000])\n",
    "    plt.ylim([-1000,1000])\n",
    "    for cid in range(N):\n",
    "        xloc = getXPosition(cid, frame)[0]\n",
    "        yloc = getYPosition(cid, frame)[0]\n",
    "        theta_val = findAngle(frame, cid)\n",
    "        #_color = getColor(frame, cid)\n",
    "        plt.plot(xloc, yloc, marker = 'o', color = 'b', linestyle = 'none')\n",
    "        areInteracting(cid, frame)\n",
    "        #showTrail(cid, frame)\n",
    "        #plt.quiver(xloc, yloc, xloc+0.5*math.cos(theta_val), yloc+0.5*math.sin(theta_val), angles = 'xy')\n",
    "        #plt.plot([xloc, xloc+100*math.cos(theta_val)], [yloc, yloc+100*math.sin(theta_val)], 'k-')\n",
    "    plt.tight_layout()\n",
    "    plt.savefig(getName(frame))\n",
    "    plt.close()\n",
    "    return(getName(frame))"
   ]
  },
  {
   "cell_type": "markdown",
   "metadata": {},
   "source": [
    "**Before running parallel code:** Run the function for a single frame to test if your code works\n",
    "- It seems that we get a key error for cid=49. By printing pos, you can confirm that the dictionary is not initialized for cid 49\n",
    "- Perhaps error in 3rd code block above, where you write `for i in range(N-1):`"
   ]
  },
  {
   "cell_type": "code",
   "execution_count": 20,
   "metadata": {},
   "outputs": [
    {
     "data": {
      "text/plain": [
       "'00002.png'"
      ]
     },
     "execution_count": 20,
     "metadata": {},
     "output_type": "execute_result"
    }
   ],
   "source": [
    "createPlot(2)"
   ]
  },
  {
   "cell_type": "markdown",
   "metadata": {},
   "source": [
    "**Comments:** When developing code, always run serially and debug before running in parallel. If you have a bug in your code, the parallel computation will throw an error that is not very helpful."
   ]
  },
  {
   "cell_type": "code",
   "execution_count": 21,
   "metadata": {
    "scrolled": false
   },
   "outputs": [],
   "source": [
    "results = Parallel(n_jobs=num_cores)(delayed(createPlot)(frame) for frame in tpoints)"
   ]
  },
  {
   "cell_type": "markdown",
   "metadata": {},
   "source": [
    "Encode movie"
   ]
  },
  {
   "cell_type": "code",
   "execution_count": 22,
   "metadata": {
    "scrolled": false
   },
   "outputs": [
    {
     "name": "stdout",
     "output_type": "stream",
     "text": [
      "Creating Movie - Frames: 250 Estimated Length: 25 seconds\n",
      "ffmpeg version 2.8.15-0ubuntu0.16.04.1 Copyright (c) 2000-2018 the FFmpeg developers\n",
      "  built with gcc 5.4.0 (Ubuntu 5.4.0-6ubuntu1~16.04.10) 20160609\n",
      "  configuration: --prefix=/usr --extra-version=0ubuntu0.16.04.1 --build-suffix=-ffmpeg --toolchain=hardened --libdir=/usr/lib/x86_64-linux-gnu --incdir=/usr/include/x86_64-linux-gnu --cc=cc --cxx=g++ --enable-gpl --enable-shared --disable-stripping --disable-decoder=libopenjpeg --disable-decoder=libschroedinger --enable-avresample --enable-avisynth --enable-gnutls --enable-ladspa --enable-libass --enable-libbluray --enable-libbs2b --enable-libcaca --enable-libcdio --enable-libflite --enable-libfontconfig --enable-libfreetype --enable-libfribidi --enable-libgme --enable-libgsm --enable-libmodplug --enable-libmp3lame --enable-libopenjpeg --enable-libopus --enable-libpulse --enable-librtmp --enable-libschroedinger --enable-libshine --enable-libsnappy --enable-libsoxr --enable-libspeex --enable-libssh --enable-libtheora --enable-libtwolame --enable-libvorbis --enable-libvpx --enable-libwavpack --enable-libwebp --enable-libx265 --enable-libxvid --enable-libzvbi --enable-openal --enable-opengl --enable-x11grab --enable-libdc1394 --enable-libiec61883 --enable-libzmq --enable-frei0r --enable-libx264 --enable-libopencv\n",
      "  libavutil      54. 31.100 / 54. 31.100\n",
      "  libavcodec     56. 60.100 / 56. 60.100\n",
      "  libavformat    56. 40.101 / 56. 40.101\n",
      "  libavdevice    56.  4.100 / 56.  4.100\n",
      "  libavfilter     5. 40.101 /  5. 40.101\n",
      "  libavresample   2.  1.  0 /  2.  1.  0\n",
      "  libswscale      3.  1.101 /  3.  1.101\n",
      "  libswresample   1.  2.101 /  1.  2.101\n",
      "  libpostproc    53.  3.100 / 53.  3.100\n",
      "Input #0, image2, from 'my_movie_%03d.png':\n",
      "  Duration: 00:00:25.00, start: 0.000000, bitrate: N/A\n",
      "    Stream #0:0: Video: png, rgba(pc), 1200x900 [SAR 11811:11811 DAR 4:3], 10 fps, 10 tbr, 10 tbn, 10 tbc\n",
      "\u001b[0;33mNo pixel format specified, yuv444p for H.264 encoding chosen.\n",
      "Use -pix_fmt yuv420p for compatibility with outdated media players.\n",
      "\u001b[0m\u001b[1;36m[libx264 @ 0x24035e0] \u001b[0musing SAR=1/1\n",
      "\u001b[1;36m[libx264 @ 0x24035e0] \u001b[0musing cpu capabilities: MMX2 SSE2Fast SSSE3 SSE4.2 AVX FMA3 AVX2 LZCNT BMI2\n",
      "\u001b[1;36m[libx264 @ 0x24035e0] \u001b[0mprofile High 4:4:4 Predictive, level 3.2, 4:4:4 8-bit\n",
      "\u001b[1;36m[libx264 @ 0x24035e0] \u001b[0m264 - core 148 r2643 5c65704 - H.264/MPEG-4 AVC codec - Copyleft 2003-2015 - http://www.videolan.org/x264.html - options: cabac=1 ref=3 deblock=1:0:0 analyse=0x3:0x113 me=hex subme=7 psy=1 psy_rd=1.00:0.00 mixed_ref=1 me_range=16 chroma_me=1 trellis=1 8x8dct=1 cqm=0 deadzone=21,11 fast_pskip=1 chroma_qp_offset=4 threads=6 lookahead_threads=1 sliced_threads=0 nr=0 decimate=1 interlaced=0 bluray_compat=0 constrained_intra=0 bframes=3 b_pyramid=2 b_adapt=1 b_bias=0 direct=1 weightb=1 open_gop=0 weightp=2 keyint=250 keyint_min=10 scenecut=40 intra_refresh=0 rc_lookahead=40 rc=abr mbtree=1 bitrate=8192 ratetol=1.0 qcomp=0.60 qpmin=0 qpmax=69 qpstep=4 ip_ratio=1.40 aq=1:1.00\n",
      "Output #0, mp4, to 'my_movie.mp4':\n",
      "  Metadata:\n",
      "    encoder         : Lavf56.40.101\n",
      "    Stream #0:0: Video: h264 (libx264) ([33][0][0][0] / 0x0021), yuv444p, 1200x900 [SAR 1:1 DAR 4:3], q=-1--1, 8192 kb/s, 10 fps, 10240 tbn, 10 tbc\n",
      "    Metadata:\n",
      "      encoder         : Lavc56.60.100 libx264\n",
      "Stream mapping:\n",
      "  Stream #0:0 -> #0:0 (png (native) -> h264 (libx264))\n",
      "Press [q] to stop, [?] for help\n",
      "frame=  250 fps= 84 q=-1.0 Lsize=    1561kB time=00:00:24.80 bitrate= 515.7kbits/s    \n",
      "video:1557kB audio:0kB subtitle:0kB other streams:0kB global headers:0kB muxing overhead: 0.241090%\n",
      "\u001b[1;36m[libx264 @ 0x24035e0] \u001b[0mframe I:1     Avg QP: 1.14  size: 89897\n",
      "\u001b[1;36m[libx264 @ 0x24035e0] \u001b[0mframe P:83    Avg QP: 0.87  size:  8969\n",
      "\u001b[1;36m[libx264 @ 0x24035e0] \u001b[0mframe B:166   Avg QP: 4.52  size:  4577\n",
      "\u001b[1;36m[libx264 @ 0x24035e0] \u001b[0mconsecutive B-frames:  2.8% 24.8%  3.6% 68.8%\n",
      "\u001b[1;36m[libx264 @ 0x24035e0] \u001b[0mmb I  I16..4: 76.4%  5.9% 17.6%\n",
      "\u001b[1;36m[libx264 @ 0x24035e0] \u001b[0mmb P  I16..4:  1.8%  0.1%  0.3%  P16..4:  2.2%  0.8%  0.8%  0.0%  0.0%    skip:94.0%\n",
      "\u001b[1;36m[libx264 @ 0x24035e0] \u001b[0mmb B  I16..4:  0.0%  0.0%  0.0%  B16..8:  4.2%  1.1%  0.6%  direct: 0.2%  skip:93.9%  L0:55.1% L1:41.3% BI: 3.6%\n",
      "\u001b[1;36m[libx264 @ 0x24035e0] \u001b[0mfinal ratefactor: -24.93\n",
      "\u001b[1;36m[libx264 @ 0x24035e0] \u001b[0m8x8 transform intra:6.0% inter:4.3%\n",
      "\u001b[1;36m[libx264 @ 0x24035e0] \u001b[0mcoded y,u,v intra: 8.6% 7.5% 6.9% inter: 0.7% 0.8% 0.5%\n",
      "\u001b[1;36m[libx264 @ 0x24035e0] \u001b[0mi16 v,h,dc,p: 92%  7%  1%  0%\n",
      "\u001b[1;36m[libx264 @ 0x24035e0] \u001b[0mi8 v,h,dc,ddl,ddr,vr,hd,vl,hu: 28%  4% 68%  0%  0%  0%  0%  0%  0%\n",
      "\u001b[1;36m[libx264 @ 0x24035e0] \u001b[0mi4 v,h,dc,ddl,ddr,vr,hd,vl,hu: 31% 21% 28%  4%  3%  3%  3%  3%  3%\n",
      "\u001b[1;36m[libx264 @ 0x24035e0] \u001b[0mWeighted P-Frames: Y:0.0% UV:0.0%\n",
      "\u001b[1;36m[libx264 @ 0x24035e0] \u001b[0mref P L0: 66.3%  0.9% 21.2% 11.6%\n",
      "\u001b[1;36m[libx264 @ 0x24035e0] \u001b[0mref B L0: 86.7% 10.0%  3.3%\n",
      "\u001b[1;36m[libx264 @ 0x24035e0] \u001b[0mref B L1: 95.4%  4.6%\n",
      "\u001b[1;36m[libx264 @ 0x24035e0] \u001b[0mkb/s:510.12\n"
     ]
    }
   ],
   "source": [
    "! chmod +x make_png_movie.sh\n",
    "! ./make_png_movie.sh"
   ]
  },
  {
   "cell_type": "code",
   "execution_count": 23,
   "metadata": {},
   "outputs": [],
   "source": [
    "#Rename movie file"
   ]
  },
  {
   "cell_type": "code",
   "execution_count": 24,
   "metadata": {},
   "outputs": [],
   "source": [
    "! mv my_movie.mp4 SimulationResults/periodic.mp4"
   ]
  },
  {
   "cell_type": "markdown",
   "metadata": {},
   "source": [
    "Delete images"
   ]
  },
  {
   "cell_type": "code",
   "execution_count": 25,
   "metadata": {},
   "outputs": [],
   "source": [
    "! rm -rf *.png"
   ]
  },
  {
   "cell_type": "code",
   "execution_count": 26,
   "metadata": {},
   "outputs": [
    {
     "data": {
      "text/html": [
       "\n",
       "<video width=\"640\" height=\"640\" controls>\n",
       "  <source src=\"SimulationResults/periodic.mp4\" type=\"video/mp4\">\n",
       "</video>\n"
      ],
      "text/plain": [
       "<IPython.core.display.HTML object>"
      ]
     },
     "execution_count": 26,
     "metadata": {},
     "output_type": "execute_result"
    }
   ],
   "source": [
    "HTML(\"\"\"\n",
    "<video width=\"640\" height=\"640\" controls>\n",
    "  <source src=\"SimulationResults/periodic.mp4\" type=\"video/mp4\">\n",
    "</video>\n",
    "\"\"\")"
   ]
  },
  {
   "cell_type": "code",
   "execution_count": null,
   "metadata": {},
   "outputs": [],
   "source": []
  },
  {
   "cell_type": "code",
   "execution_count": null,
   "metadata": {},
   "outputs": [],
   "source": []
  }
 ],
 "metadata": {
  "@webio": {
   "lastCommId": "260ea5c0b0f44f4bb16115ccc08cb7c1",
   "lastKernelId": "a38b4035-0635-49f4-90c8-9976742fe2b0"
  },
  "kernelspec": {
   "display_name": "Python 2",
   "language": "python",
   "name": "python2"
  },
  "language_info": {
   "codemirror_mode": {
    "name": "ipython",
    "version": 2
   },
   "file_extension": ".py",
   "mimetype": "text/x-python",
   "name": "python",
   "nbconvert_exporter": "python",
   "pygments_lexer": "ipython2",
   "version": "2.7.15"
  }
 },
 "nbformat": 4,
 "nbformat_minor": 2
}
